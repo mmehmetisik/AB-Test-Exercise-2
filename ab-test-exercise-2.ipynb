{
 "cells": [
  {
   "cell_type": "markdown",
   "id": "1fb49aa6",
   "metadata": {
    "papermill": {
     "duration": 0.008025,
     "end_time": "2023-06-20T12:47:43.900581",
     "exception": false,
     "start_time": "2023-06-20T12:47:43.892556",
     "status": "completed"
    },
    "tags": []
   },
   "source": [
    "![AB Testing](https://cdn.ttgtmedia.com/rms/onlineimages/mobile_computing-ab_testing.png)"
   ]
  },
  {
   "cell_type": "markdown",
   "id": "674ca9e9",
   "metadata": {
    "papermill": {
     "duration": 0.006806,
     "end_time": "2023-06-20T12:47:43.915522",
     "exception": false,
     "start_time": "2023-06-20T12:47:43.908716",
     "status": "completed"
    },
    "tags": []
   },
   "source": [
    "# WHAT IS THE AB TESTING ?\n",
    "\n",
    "A/B testing, also known as split testing, is a method of comparing two variants(A and B) to determine which one performs better. In A/B testing, two variants (A and B) are created with one element of the design or content being different between the two variants. The two versions are then shown randomly to users, and their behavior is monitored and compared to determine which variant performs better based on a predefined goal, such as the conversion rate, click-through rate, or engagement rate.\n",
    "\n",
    "A/B testing is commonly used in website optimization, digital marketing, and product development to determine which variant is more effective at achieving a specific goal. It helps businesses make data-driven decisions by providing insight into what resonates better with their audience and what changes can be made to improve the user experience and increase conversions."
   ]
  },
  {
   "cell_type": "markdown",
   "id": "c080b31d",
   "metadata": {
    "papermill": {
     "duration": 0.006865,
     "end_time": "2023-06-20T12:47:43.928951",
     "exception": false,
     "start_time": "2023-06-20T12:47:43.922086",
     "status": "completed"
    },
    "tags": []
   },
   "source": [
    "# Hypothesis Testing\n",
    "\n",
    "Hypothesis tests are analytical tools used as a statistical method. These tests aim to test a hypothesis (claim) about a population using sample data. Hypothesis tests help us make inferences about whether a hypothesis is true or not by collecting statistical evidence.\n",
    "\n",
    "Generally, two hypotheses are formulated: the null hypothesis (H0) and the alternative hypothesis (H1 or HA). The null hypothesis represents the existing condition or the accepted assumptions, while the alternative hypothesis claims a specific change or effect.\n",
    "\n",
    "Hypothesis tests can be categorized into the following types:\n",
    "\n",
    "- **One-Sample T Test:** Used to test if the mean of a population is significantly different from a specific value.\n",
    "\n",
    "- **Independent Two-Sample T Test:** Used to test if there is a significant difference between the means of two independent groups.\n",
    "\n",
    "- **Paired Two-Sample T Test:** Used to test if there is a significant difference between the means of two related or paired groups.\n",
    "\n",
    "- **Analysis of Variance (ANOVA):** Used to test if there is a significant difference among the means of three or more groups.\n",
    "\n",
    "- **Chi-Square Test:** Used to test if there is a dependency or association between two categorical variables.\n",
    "\n",
    "- **Regression Analysis:** Used to analyze the relationship between dependent and independent variables.\n",
    "\n",
    "These are just some popular types of hypothesis tests, and there are many more methods available in statistics. Hypothesis tests are used in various fields, ranging from scientific research and marketing strategies to medical studies and industrial quality control processes. These tests enable us to make objective decisions based on data and evaluate statistical significance.\n",
    "\n",
    "- Hypothesis tests are statistical methods used to test a belief or proposition.\n",
    "\n",
    "- Within the scope of hypothesis testing, there are group comparisons.\n",
    "\n",
    "- The main objective in group comparisons is to determine whether observed differences are due to chance or if there is a genuine difference.\n",
    "\n",
    "**For example:**\n",
    "\n",
    "- Did the average daily usage time of users increase after a user interface change in a mobile application?\n",
    "\n",
    "- The result we obtain from this analysis, based on the sample we have, will help us determine if the observed outcome occurred by chance or if there is indeed a significant difference.\n",
    "\n",
    "- We will strive to understand this through statistical calculations and analysis. We will provide evidence to support our findings."
   ]
  },
  {
   "cell_type": "markdown",
   "id": "0982a6e5",
   "metadata": {
    "papermill": {
     "duration": 0.007842,
     "end_time": "2023-06-20T12:47:43.944548",
     "exception": false,
     "start_time": "2023-06-20T12:47:43.936706",
     "status": "completed"
    },
    "tags": []
   },
   "source": [
    "# A/B Testing (Independent Two-Sample T Test) (Comparing Two Group Means)"
   ]
  },
  {
   "cell_type": "markdown",
   "id": "a5651b6d",
   "metadata": {
    "papermill": {
     "duration": 0.009323,
     "end_time": "2023-06-20T12:47:43.961672",
     "exception": false,
     "start_time": "2023-06-20T12:47:43.952349",
     "status": "completed"
    },
    "tags": []
   },
   "source": [
    "# Road Map\n",
    "1. Set up Hypotheses\n",
    "2. Assumption Check\n",
    "    - 2.1. Assumption of Normality\n",
    "    - 2.2. Variance Homogeneity\n",
    "3. Implementation of the Hypothesis\n",
    "    - 3.1. If the assumptions are met, independent two sample t test (parametric test)\n",
    "    - 3.2.If assumptions are not met, mannwhitneyu test (non-parametric test)\n",
    "4. Interpret results according to p-value"
   ]
  },
  {
   "cell_type": "code",
   "execution_count": 1,
   "id": "5bf45219",
   "metadata": {
    "execution": {
     "iopub.execute_input": "2023-06-20T12:47:43.979506Z",
     "iopub.status.busy": "2023-06-20T12:47:43.978691Z",
     "iopub.status.idle": "2023-06-20T12:47:45.881151Z",
     "shell.execute_reply": "2023-06-20T12:47:45.880190Z"
    },
    "papermill": {
     "duration": 1.914057,
     "end_time": "2023-06-20T12:47:45.883631",
     "exception": false,
     "start_time": "2023-06-20T12:47:43.969574",
     "status": "completed"
    },
    "tags": []
   },
   "outputs": [],
   "source": [
    "# import Required Libraries\n",
    "\n",
    "import itertools\n",
    "import numpy as np\n",
    "import pandas as pd\n",
    "import matplotlib.pyplot as plt\n",
    "import seaborn as sns\n",
    "import statsmodels.stats.api as sms\n",
    "from scipy.stats import ttest_1samp, shapiro, levene, ttest_ind, mannwhitneyu,pearsonr, spearmanr, kendalltau, f_oneway, kruskal\n",
    "from statsmodels.stats.proportion import proportions_ztest"
   ]
  },
  {
   "cell_type": "code",
   "execution_count": 2,
   "id": "8303f0de",
   "metadata": {
    "execution": {
     "iopub.execute_input": "2023-06-20T12:47:45.898767Z",
     "iopub.status.busy": "2023-06-20T12:47:45.898179Z",
     "iopub.status.idle": "2023-06-20T12:47:45.902956Z",
     "shell.execute_reply": "2023-06-20T12:47:45.901742Z"
    },
    "papermill": {
     "duration": 0.015063,
     "end_time": "2023-06-20T12:47:45.905349",
     "exception": false,
     "start_time": "2023-06-20T12:47:45.890286",
     "status": "completed"
    },
    "tags": []
   },
   "outputs": [],
   "source": [
    "# Adjusting Row Column Settings\n",
    "\n",
    "pd.set_option('display.max_columns', None)\n",
    "pd.set_option('display.max_rows', 10)\n",
    "pd.set_option('display.float_format', lambda x: '%.5f' % x)"
   ]
  },
  {
   "cell_type": "markdown",
   "id": "82a36b22",
   "metadata": {
    "papermill": {
     "duration": 0.006169,
     "end_time": "2023-06-20T12:47:45.918072",
     "exception": false,
     "start_time": "2023-06-20T12:47:45.911903",
     "status": "completed"
    },
    "tags": []
   },
   "source": [
    "# Exercise 2: Is There a Statistically Significant Difference Between the Average Age of Male and Female Passengers in the Titanic Data Set?"
   ]
  },
  {
   "cell_type": "code",
   "execution_count": 3,
   "id": "4b258e14",
   "metadata": {
    "execution": {
     "iopub.execute_input": "2023-06-20T12:47:45.932472Z",
     "iopub.status.busy": "2023-06-20T12:47:45.932070Z",
     "iopub.status.idle": "2023-06-20T12:47:46.101107Z",
     "shell.execute_reply": "2023-06-20T12:47:46.100072Z"
    },
    "papermill": {
     "duration": 0.179516,
     "end_time": "2023-06-20T12:47:46.103942",
     "exception": false,
     "start_time": "2023-06-20T12:47:45.924426",
     "status": "completed"
    },
    "tags": []
   },
   "outputs": [],
   "source": [
    "# Loading the Data Set\n",
    "\n",
    "df = sns.load_dataset(\"titanic\")"
   ]
  },
  {
   "cell_type": "code",
   "execution_count": 4,
   "id": "283b57fc",
   "metadata": {
    "execution": {
     "iopub.execute_input": "2023-06-20T12:47:46.118947Z",
     "iopub.status.busy": "2023-06-20T12:47:46.118536Z",
     "iopub.status.idle": "2023-06-20T12:47:46.170163Z",
     "shell.execute_reply": "2023-06-20T12:47:46.168971Z"
    },
    "papermill": {
     "duration": 0.062208,
     "end_time": "2023-06-20T12:47:46.172974",
     "exception": false,
     "start_time": "2023-06-20T12:47:46.110766",
     "status": "completed"
    },
    "tags": []
   },
   "outputs": [
    {
     "name": "stdout",
     "output_type": "stream",
     "text": [
      "##################### Shape #####################\n",
      "(891, 15)\n",
      "##################### Types #####################\n",
      "survived          int64\n",
      "pclass            int64\n",
      "sex              object\n",
      "age             float64\n",
      "sibsp             int64\n",
      "                 ...   \n",
      "adult_male         bool\n",
      "deck           category\n",
      "embark_town      object\n",
      "alive            object\n",
      "alone              bool\n",
      "Length: 15, dtype: object\n",
      "##################### Head #####################\n",
      "   survived  pclass     sex      age  sibsp  parch     fare embarked  class  \\\n",
      "0         0       3    male 22.00000      1      0  7.25000        S  Third   \n",
      "1         1       1  female 38.00000      1      0 71.28330        C  First   \n",
      "2         1       3  female 26.00000      0      0  7.92500        S  Third   \n",
      "3         1       1  female 35.00000      1      0 53.10000        S  First   \n",
      "4         0       3    male 35.00000      0      0  8.05000        S  Third   \n",
      "\n",
      "     who  adult_male deck  embark_town alive  alone  \n",
      "0    man        True  NaN  Southampton    no  False  \n",
      "1  woman       False    C    Cherbourg   yes  False  \n",
      "2  woman       False  NaN  Southampton   yes   True  \n",
      "3  woman       False    C  Southampton   yes  False  \n",
      "4    man        True  NaN  Southampton    no   True  \n",
      "##################### Tail #####################\n",
      "     survived  pclass     sex      age  sibsp  parch     fare embarked  \\\n",
      "886         0       2    male 27.00000      0      0 13.00000        S   \n",
      "887         1       1  female 19.00000      0      0 30.00000        S   \n",
      "888         0       3  female      NaN      1      2 23.45000        S   \n",
      "889         1       1    male 26.00000      0      0 30.00000        C   \n",
      "890         0       3    male 32.00000      0      0  7.75000        Q   \n",
      "\n",
      "      class    who  adult_male deck  embark_town alive  alone  \n",
      "886  Second    man        True  NaN  Southampton    no   True  \n",
      "887   First  woman       False    B  Southampton   yes   True  \n",
      "888   Third  woman       False  NaN  Southampton    no  False  \n",
      "889   First    man        True    C    Cherbourg   yes   True  \n",
      "890   Third    man        True  NaN   Queenstown    no   True  \n",
      "##################### NA #####################\n",
      "survived         0\n",
      "pclass           0\n",
      "sex              0\n",
      "age            177\n",
      "sibsp            0\n",
      "              ... \n",
      "adult_male       0\n",
      "deck           688\n",
      "embark_town      2\n",
      "alive            0\n",
      "alone            0\n",
      "Length: 15, dtype: int64\n",
      "##################### Quantiles #####################\n",
      "             count     mean      std     min      0%      5%      50%  \\\n",
      "survived 891.00000  0.38384  0.48659 0.00000 0.00000 0.00000  0.00000   \n",
      "pclass   891.00000  2.30864  0.83607 1.00000 1.00000 1.00000  3.00000   \n",
      "age      714.00000 29.69912 14.52650 0.42000 0.42000 4.00000 28.00000   \n",
      "sibsp    891.00000  0.52301  1.10274 0.00000 0.00000 0.00000  0.00000   \n",
      "parch    891.00000  0.38159  0.80606 0.00000 0.00000 0.00000  0.00000   \n",
      "fare     891.00000 32.20421 49.69343 0.00000 0.00000 7.22500 14.45420   \n",
      "\n",
      "               95%       99%      100%       max  \n",
      "survived   1.00000   1.00000   1.00000   1.00000  \n",
      "pclass     3.00000   3.00000   3.00000   3.00000  \n",
      "age       56.00000  65.87000  80.00000  80.00000  \n",
      "sibsp      3.00000   5.00000   8.00000   8.00000  \n",
      "parch      2.00000   4.00000   6.00000   6.00000  \n",
      "fare     112.07915 249.00622 512.32920 512.32920  \n"
     ]
    }
   ],
   "source": [
    "# Preliminary examination of the data set\n",
    "\n",
    "def check_df(dataframe, head=5):\n",
    "    print('##################### Shape #####################')\n",
    "    print(dataframe.shape)\n",
    "    print('##################### Types #####################')\n",
    "    print(dataframe.dtypes)\n",
    "    print('##################### Head #####################')\n",
    "    print(dataframe.head(head))\n",
    "    print('##################### Tail #####################')\n",
    "    print(dataframe.tail(head))\n",
    "    print('##################### NA #####################')\n",
    "    print(dataframe.isnull().sum())\n",
    "    print('##################### Quantiles #####################')\n",
    "    print(dataframe.describe([0, 0.05, 0.50, 0.95, 0.99, 1]).T)\n",
    "\n",
    "check_df(df)"
   ]
  },
  {
   "cell_type": "code",
   "execution_count": 5,
   "id": "4b2994a2",
   "metadata": {
    "execution": {
     "iopub.execute_input": "2023-06-20T12:47:46.188377Z",
     "iopub.status.busy": "2023-06-20T12:47:46.187994Z",
     "iopub.status.idle": "2023-06-20T12:47:46.210571Z",
     "shell.execute_reply": "2023-06-20T12:47:46.209496Z"
    },
    "papermill": {
     "duration": 0.032732,
     "end_time": "2023-06-20T12:47:46.212763",
     "exception": false,
     "start_time": "2023-06-20T12:47:46.180031",
     "status": "completed"
    },
    "tags": []
   },
   "outputs": [
    {
     "data": {
      "text/html": [
       "<div>\n",
       "<style scoped>\n",
       "    .dataframe tbody tr th:only-of-type {\n",
       "        vertical-align: middle;\n",
       "    }\n",
       "\n",
       "    .dataframe tbody tr th {\n",
       "        vertical-align: top;\n",
       "    }\n",
       "\n",
       "    .dataframe thead th {\n",
       "        text-align: right;\n",
       "    }\n",
       "</style>\n",
       "<table border=\"1\" class=\"dataframe\">\n",
       "  <thead>\n",
       "    <tr style=\"text-align: right;\">\n",
       "      <th></th>\n",
       "      <th>age</th>\n",
       "    </tr>\n",
       "    <tr>\n",
       "      <th>sex</th>\n",
       "      <th></th>\n",
       "    </tr>\n",
       "  </thead>\n",
       "  <tbody>\n",
       "    <tr>\n",
       "      <th>female</th>\n",
       "      <td>27.91571</td>\n",
       "    </tr>\n",
       "    <tr>\n",
       "      <th>male</th>\n",
       "      <td>30.72664</td>\n",
       "    </tr>\n",
       "  </tbody>\n",
       "</table>\n",
       "</div>"
      ],
      "text/plain": [
       "            age\n",
       "sex            \n",
       "female 27.91571\n",
       "male   30.72664"
      ]
     },
     "execution_count": 5,
     "metadata": {},
     "output_type": "execute_result"
    }
   ],
   "source": [
    "df.groupby(\"sex\").agg({\"age\": \"mean\"})"
   ]
  },
  {
   "cell_type": "code",
   "execution_count": 6,
   "id": "d91d1b88",
   "metadata": {
    "execution": {
     "iopub.execute_input": "2023-06-20T12:47:46.227401Z",
     "iopub.status.busy": "2023-06-20T12:47:46.227062Z",
     "iopub.status.idle": "2023-06-20T12:47:46.231534Z",
     "shell.execute_reply": "2023-06-20T12:47:46.230491Z"
    },
    "papermill": {
     "duration": 0.014192,
     "end_time": "2023-06-20T12:47:46.233578",
     "exception": false,
     "start_time": "2023-06-20T12:47:46.219386",
     "status": "completed"
    },
    "tags": []
   },
   "outputs": [],
   "source": [
    "# There seems to be a mathematical difference between the two groups. But is this difference a chance occurrence or is it statistically significant?"
   ]
  },
  {
   "cell_type": "markdown",
   "id": "721e7385",
   "metadata": {
    "papermill": {
     "duration": 0.006537,
     "end_time": "2023-06-20T12:47:46.246874",
     "exception": false,
     "start_time": "2023-06-20T12:47:46.240337",
     "status": "completed"
    },
    "tags": []
   },
   "source": [
    "# 1. Establish the hypotheses:\n",
    "- **H0: M1 = M2** (There is No Statistically Significant Difference Between the Mean Age of Male and Female Passengers)\n",
    "- **H1: M1! = M2** (There is a Statistically Significant Difference between the Mean Age of Male and Female Passengers)"
   ]
  },
  {
   "cell_type": "markdown",
   "id": "5280925f",
   "metadata": {
    "papermill": {
     "duration": 0.006406,
     "end_time": "2023-06-20T12:47:46.259909",
     "exception": false,
     "start_time": "2023-06-20T12:47:46.253503",
     "status": "completed"
    },
    "tags": []
   },
   "source": [
    "# 2. Examine Assumptions"
   ]
  },
  {
   "cell_type": "markdown",
   "id": "aabe31b1",
   "metadata": {
    "papermill": {
     "duration": 0.007018,
     "end_time": "2023-06-20T12:47:46.273561",
     "exception": false,
     "start_time": "2023-06-20T12:47:46.266543",
     "status": "completed"
    },
    "tags": []
   },
   "source": [
    "**Assumption of normality**\n",
    "\n",
    "- H0: The assumption of normal distribution is satisfied.\n",
    "- H1: Assumption of normal distribution is not satisfied"
   ]
  },
  {
   "cell_type": "code",
   "execution_count": 7,
   "id": "cf907507",
   "metadata": {
    "execution": {
     "iopub.execute_input": "2023-06-20T12:47:46.288812Z",
     "iopub.status.busy": "2023-06-20T12:47:46.288412Z",
     "iopub.status.idle": "2023-06-20T12:47:46.293003Z",
     "shell.execute_reply": "2023-06-20T12:47:46.291748Z"
    },
    "papermill": {
     "duration": 0.014589,
     "end_time": "2023-06-20T12:47:46.295014",
     "exception": false,
     "start_time": "2023-06-20T12:47:46.280425",
     "status": "completed"
    },
    "tags": []
   },
   "outputs": [],
   "source": [
    "# H0 REJ if p-value < 0.05.\n",
    "# H0 CANNOT BE REJECTED if p-value < 0.05."
   ]
  },
  {
   "cell_type": "code",
   "execution_count": 8,
   "id": "27d011bb",
   "metadata": {
    "execution": {
     "iopub.execute_input": "2023-06-20T12:47:46.309986Z",
     "iopub.status.busy": "2023-06-20T12:47:46.309572Z",
     "iopub.status.idle": "2023-06-20T12:47:46.317016Z",
     "shell.execute_reply": "2023-06-20T12:47:46.316113Z"
    },
    "papermill": {
     "duration": 0.017222,
     "end_time": "2023-06-20T12:47:46.318985",
     "exception": false,
     "start_time": "2023-06-20T12:47:46.301763",
     "status": "completed"
    },
    "tags": []
   },
   "outputs": [],
   "source": [
    "test_stat, pvalue = shapiro(df.loc[df[\"sex\"] == \"female\", \"age\"].dropna())"
   ]
  },
  {
   "cell_type": "code",
   "execution_count": 9,
   "id": "17d6d34c",
   "metadata": {
    "execution": {
     "iopub.execute_input": "2023-06-20T12:47:46.334368Z",
     "iopub.status.busy": "2023-06-20T12:47:46.333896Z",
     "iopub.status.idle": "2023-06-20T12:47:46.339431Z",
     "shell.execute_reply": "2023-06-20T12:47:46.338438Z"
    },
    "papermill": {
     "duration": 0.015788,
     "end_time": "2023-06-20T12:47:46.341533",
     "exception": false,
     "start_time": "2023-06-20T12:47:46.325745",
     "status": "completed"
    },
    "tags": []
   },
   "outputs": [
    {
     "name": "stdout",
     "output_type": "stream",
     "text": [
      "Test Stat = 0.9848, p-value = 0.0071\n"
     ]
    }
   ],
   "source": [
    "print('Test Stat = %.4f, p-value = %.4f' % (test_stat, pvalue))"
   ]
  },
  {
   "cell_type": "code",
   "execution_count": 10,
   "id": "21c94df6",
   "metadata": {
    "execution": {
     "iopub.execute_input": "2023-06-20T12:47:46.356743Z",
     "iopub.status.busy": "2023-06-20T12:47:46.356335Z",
     "iopub.status.idle": "2023-06-20T12:47:46.360980Z",
     "shell.execute_reply": "2023-06-20T12:47:46.360067Z"
    },
    "papermill": {
     "duration": 0.014599,
     "end_time": "2023-06-20T12:47:46.362960",
     "exception": false,
     "start_time": "2023-06-20T12:47:46.348361",
     "status": "completed"
    },
    "tags": []
   },
   "outputs": [],
   "source": [
    "# Since the p-value is less than 0.05, hypothesis H0 is rejected. \n",
    "# The assumption of normality is not satisfied."
   ]
  },
  {
   "cell_type": "code",
   "execution_count": 11,
   "id": "1312dde2",
   "metadata": {
    "execution": {
     "iopub.execute_input": "2023-06-20T12:47:46.378420Z",
     "iopub.status.busy": "2023-06-20T12:47:46.378069Z",
     "iopub.status.idle": "2023-06-20T12:47:46.384420Z",
     "shell.execute_reply": "2023-06-20T12:47:46.383404Z"
    },
    "papermill": {
     "duration": 0.0166,
     "end_time": "2023-06-20T12:47:46.386464",
     "exception": false,
     "start_time": "2023-06-20T12:47:46.369864",
     "status": "completed"
    },
    "tags": []
   },
   "outputs": [],
   "source": [
    "test_stat, pvalue = shapiro(df.loc[df[\"sex\"] == \"male\", \"age\"].dropna())"
   ]
  },
  {
   "cell_type": "code",
   "execution_count": 12,
   "id": "41ab17ee",
   "metadata": {
    "execution": {
     "iopub.execute_input": "2023-06-20T12:47:46.401870Z",
     "iopub.status.busy": "2023-06-20T12:47:46.401504Z",
     "iopub.status.idle": "2023-06-20T12:47:46.406776Z",
     "shell.execute_reply": "2023-06-20T12:47:46.405317Z"
    },
    "papermill": {
     "duration": 0.015651,
     "end_time": "2023-06-20T12:47:46.408948",
     "exception": false,
     "start_time": "2023-06-20T12:47:46.393297",
     "status": "completed"
    },
    "tags": []
   },
   "outputs": [
    {
     "name": "stdout",
     "output_type": "stream",
     "text": [
      "Test Stat = 0.9747, p-value = 0.0000\n"
     ]
    }
   ],
   "source": [
    "print('Test Stat = %.4f, p-value = %.4f' % (test_stat, pvalue))"
   ]
  },
  {
   "cell_type": "code",
   "execution_count": 13,
   "id": "031df6d3",
   "metadata": {
    "execution": {
     "iopub.execute_input": "2023-06-20T12:47:46.424470Z",
     "iopub.status.busy": "2023-06-20T12:47:46.423839Z",
     "iopub.status.idle": "2023-06-20T12:47:46.428275Z",
     "shell.execute_reply": "2023-06-20T12:47:46.427175Z"
    },
    "papermill": {
     "duration": 0.014554,
     "end_time": "2023-06-20T12:47:46.430271",
     "exception": false,
     "start_time": "2023-06-20T12:47:46.415717",
     "status": "completed"
    },
    "tags": []
   },
   "outputs": [],
   "source": [
    "# Since the p-value is less than 0.05, hypothesis H0 is rejected. \n",
    "# The assumption of normality is not satisfied."
   ]
  },
  {
   "cell_type": "markdown",
   "id": "02ce7821",
   "metadata": {
    "papermill": {
     "duration": 0.006779,
     "end_time": "2023-06-20T12:47:46.443865",
     "exception": false,
     "start_time": "2023-06-20T12:47:46.437086",
     "status": "completed"
    },
    "tags": []
   },
   "source": [
    "**We cannot use a parametric test because the assumption of a normal distribution is not satisfied. We need to use a non-parametric test.**"
   ]
  },
  {
   "cell_type": "markdown",
   "id": "3e7679c2",
   "metadata": {
    "papermill": {
     "duration": 0.006467,
     "end_time": "2023-06-20T12:47:46.457092",
     "exception": false,
     "start_time": "2023-06-20T12:47:46.450625",
     "status": "completed"
    },
    "tags": []
   },
   "source": [
    "**Homogeneity of variance**\n",
    "\n",
    "- H0: Variances are Homogeneous\n",
    "- H1: Variances are Not Homogeneous"
   ]
  },
  {
   "cell_type": "code",
   "execution_count": 14,
   "id": "30bf4053",
   "metadata": {
    "execution": {
     "iopub.execute_input": "2023-06-20T12:47:46.472403Z",
     "iopub.status.busy": "2023-06-20T12:47:46.472017Z",
     "iopub.status.idle": "2023-06-20T12:47:46.481491Z",
     "shell.execute_reply": "2023-06-20T12:47:46.480614Z"
    },
    "papermill": {
     "duration": 0.019814,
     "end_time": "2023-06-20T12:47:46.483699",
     "exception": false,
     "start_time": "2023-06-20T12:47:46.463885",
     "status": "completed"
    },
    "tags": []
   },
   "outputs": [],
   "source": [
    "test_stat, pvalue = levene(df.loc[df[\"sex\"] == \"female\", \"age\"].dropna(),\n",
    "                           df.loc[df[\"sex\"] == \"male\", \"age\"].dropna())"
   ]
  },
  {
   "cell_type": "code",
   "execution_count": 15,
   "id": "dfbec93a",
   "metadata": {
    "execution": {
     "iopub.execute_input": "2023-06-20T12:47:46.499279Z",
     "iopub.status.busy": "2023-06-20T12:47:46.498515Z",
     "iopub.status.idle": "2023-06-20T12:47:46.503939Z",
     "shell.execute_reply": "2023-06-20T12:47:46.502940Z"
    },
    "papermill": {
     "duration": 0.015561,
     "end_time": "2023-06-20T12:47:46.506063",
     "exception": false,
     "start_time": "2023-06-20T12:47:46.490502",
     "status": "completed"
    },
    "tags": []
   },
   "outputs": [
    {
     "name": "stdout",
     "output_type": "stream",
     "text": [
      "Test Stat = 0.0013, p-value = 0.9712\n"
     ]
    }
   ],
   "source": [
    "print('Test Stat = %.4f, p-value = %.4f' % (test_stat, pvalue))"
   ]
  },
  {
   "cell_type": "code",
   "execution_count": 16,
   "id": "0a08fe71",
   "metadata": {
    "execution": {
     "iopub.execute_input": "2023-06-20T12:47:46.521340Z",
     "iopub.status.busy": "2023-06-20T12:47:46.520962Z",
     "iopub.status.idle": "2023-06-20T12:47:46.525473Z",
     "shell.execute_reply": "2023-06-20T12:47:46.524262Z"
    },
    "papermill": {
     "duration": 0.014743,
     "end_time": "2023-06-20T12:47:46.527581",
     "exception": false,
     "start_time": "2023-06-20T12:47:46.512838",
     "status": "completed"
    },
    "tags": []
   },
   "outputs": [],
   "source": [
    "# Since the p-value is greater than 0.05, hypothesis H0 cannot be rejected. \n",
    "# Variances are Homogeneous."
   ]
  },
  {
   "cell_type": "markdown",
   "id": "7323a183",
   "metadata": {
    "papermill": {
     "duration": 0.006649,
     "end_time": "2023-06-20T12:47:46.541202",
     "exception": false,
     "start_time": "2023-06-20T12:47:46.534553",
     "status": "completed"
    },
    "tags": []
   },
   "source": [
    "**Non-parametric test is applied since the assumption of normal distribution is not satisfied.**"
   ]
  },
  {
   "cell_type": "code",
   "execution_count": 17,
   "id": "ffdfc5bf",
   "metadata": {
    "execution": {
     "iopub.execute_input": "2023-06-20T12:47:46.557318Z",
     "iopub.status.busy": "2023-06-20T12:47:46.556477Z",
     "iopub.status.idle": "2023-06-20T12:47:46.567042Z",
     "shell.execute_reply": "2023-06-20T12:47:46.565914Z"
    },
    "papermill": {
     "duration": 0.021175,
     "end_time": "2023-06-20T12:47:46.569266",
     "exception": false,
     "start_time": "2023-06-20T12:47:46.548091",
     "status": "completed"
    },
    "tags": []
   },
   "outputs": [],
   "source": [
    "test_stat, pvalue = mannwhitneyu(df.loc[df[\"sex\"] == \"female\", \"age\"].dropna(),\n",
    "                                 df.loc[df[\"sex\"] == \"male\", \"age\"].dropna())"
   ]
  },
  {
   "cell_type": "code",
   "execution_count": 18,
   "id": "40237b4c",
   "metadata": {
    "execution": {
     "iopub.execute_input": "2023-06-20T12:47:46.585223Z",
     "iopub.status.busy": "2023-06-20T12:47:46.584630Z",
     "iopub.status.idle": "2023-06-20T12:47:46.589848Z",
     "shell.execute_reply": "2023-06-20T12:47:46.588615Z"
    },
    "papermill": {
     "duration": 0.015729,
     "end_time": "2023-06-20T12:47:46.591850",
     "exception": false,
     "start_time": "2023-06-20T12:47:46.576121",
     "status": "completed"
    },
    "tags": []
   },
   "outputs": [
    {
     "name": "stdout",
     "output_type": "stream",
     "text": [
      "Test Stat = 53212.5000, p-value = 0.0261\n"
     ]
    }
   ],
   "source": [
    "print('Test Stat = %.4f, p-value = %.4f' % (test_stat, pvalue))"
   ]
  },
  {
   "cell_type": "code",
   "execution_count": 19,
   "id": "46a52648",
   "metadata": {
    "execution": {
     "iopub.execute_input": "2023-06-20T12:47:46.607453Z",
     "iopub.status.busy": "2023-06-20T12:47:46.606780Z",
     "iopub.status.idle": "2023-06-20T12:47:46.610433Z",
     "shell.execute_reply": "2023-06-20T12:47:46.609763Z"
    },
    "papermill": {
     "duration": 0.013586,
     "end_time": "2023-06-20T12:47:46.612434",
     "exception": false,
     "start_time": "2023-06-20T12:47:46.598848",
     "status": "completed"
    },
    "tags": []
   },
   "outputs": [],
   "source": [
    "# Since the p-value is less than 0.05, the H0 hypothesis is rejected. \n",
    "# There is a statistically significant difference between the mean age of male and female passengers."
   ]
  }
 ],
 "metadata": {
  "kernelspec": {
   "display_name": "Python 3",
   "language": "python",
   "name": "python3"
  },
  "language_info": {
   "codemirror_mode": {
    "name": "ipython",
    "version": 3
   },
   "file_extension": ".py",
   "mimetype": "text/x-python",
   "name": "python",
   "nbconvert_exporter": "python",
   "pygments_lexer": "ipython3",
   "version": "3.10.10"
  },
  "papermill": {
   "default_parameters": {},
   "duration": 13.458266,
   "end_time": "2023-06-20T12:47:47.541303",
   "environment_variables": {},
   "exception": null,
   "input_path": "__notebook__.ipynb",
   "output_path": "__notebook__.ipynb",
   "parameters": {},
   "start_time": "2023-06-20T12:47:34.083037",
   "version": "2.4.0"
  }
 },
 "nbformat": 4,
 "nbformat_minor": 5
}
